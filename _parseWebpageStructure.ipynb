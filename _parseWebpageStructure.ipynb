{
 "cells": [
  {
   "cell_type": "code",
   "execution_count": null,
   "metadata": {},
   "outputs": [],
   "source": [
    "'''class Complex:\n",
    "...     def __init__(self, realpart, imagpart):\n",
    "...         self.r = realpart\n",
    "...         self.i = imagpart\n",
    "...\n",
    ">>> x = Complex(3.0, -4.5)\n",
    ">>> x.r, x.i\n",
    "(3.0, -4.5)'''"
   ]
  },
  {
   "cell_type": "code",
   "execution_count": null,
   "metadata": {},
   "outputs": [],
   "source": [
    "'''class Dog:\n",
    "\n",
    "    kind = 'canine'         # class variable shared by all instances\n",
    "\n",
    "    def __init__(self, name):\n",
    "        self.name = name    # instance variable unique to each instance\n",
    "\n",
    ">>> d = Dog('Fido')\n",
    ">>> e = Dog('Buddy')\n",
    ">>> d.kind                  # shared by all dogs\n",
    "'canine'\n",
    ">>> e.kind                  # shared by all dogs\n",
    "'canine'\n",
    ">>> d.name                  # unique to d\n",
    "'Fido'\n",
    ">>> e.name                  # unique to e\n",
    "'Buddy''''"
   ]
  },
  {
   "cell_type": "code",
   "execution_count": 61,
   "metadata": {},
   "outputs": [
    {
     "name": "stdout",
     "output_type": "stream",
     "text": [
      "Once deleted, variables cannot be recovered. Proceed (y/[n])? y\n"
     ]
    },
    {
     "name": "stderr",
     "output_type": "stream",
     "text": [
      "ERROR:root:Invalid alias: The name clear can't be aliased because it is another magic command.\n",
      "ERROR:root:Invalid alias: The name more can't be aliased because it is another magic command.\n",
      "ERROR:root:Invalid alias: The name less can't be aliased because it is another magic command.\n",
      "ERROR:root:Invalid alias: The name man can't be aliased because it is another magic command.\n"
     ]
    }
   ],
   "source": [
    "%reset\n",
    "class wpage:\n",
    "# attempt to parse the structure of a webpage\n",
    "    \n",
    "    def __init__(self,name):\n",
    "        import requests\n",
    "        # import json\n",
    "        from bs4 import BeautifulSoup\n",
    "        \n",
    "        self.name = name\n",
    "        #self.data = []\n",
    "        self.data = requests.get(self.name)\n",
    "        self.pgcontent = self.data.content\n",
    "        \n",
    "    #def parse(self):\n",
    "        \n",
    "        self.soup = BeautifulSoup(self.pgcontent)#, 'html.parser')\n",
    "        #self.headers = self.soup.headers['content-type']\n",
    "        #self.encoding= self.soup.encoding\n",
    "        \n",
    "        #print(self.soup)\n",
    "        #print(self.soup.headers)\n",
    "        \n",
    "    '''def testPage(self,self.soup):\n",
    "        # optional\n",
    "        print(self.soup.headers['content-type'])\n",
    "        print(self.soup.encoding)\n",
    "\n",
    "        text = self.soup.text\n",
    "        print(text)\n",
    "        #html_doc=text\n",
    "        #soup = BeautifulSoup(html_doc, 'html.parser')'''\n",
    "\n",
    "            "
   ]
  },
  {
   "cell_type": "code",
   "execution_count": 66,
   "metadata": {},
   "outputs": [],
   "source": [
    "\n",
    "P = wpage('https://anaconda.org/anaconda/requests')\n",
    "P.name\n",
    "P.data\n",
    "P.pgcontent\n",
    "soup=P.soup;\n",
    "#P.testPage(P.soup)\n"
   ]
  },
  {
   "cell_type": "code",
   "execution_count": 70,
   "metadata": {},
   "outputs": [
    {
     "ename": "TypeError",
     "evalue": "'NoneType' object is not subscriptable",
     "output_type": "error",
     "traceback": [
      "\u001b[0;31m---------------------------------------------------------------------------\u001b[0m",
      "\u001b[0;31mTypeError\u001b[0m                                 Traceback (most recent call last)",
      "\u001b[0;32m<ipython-input-70-2de9236384f2>\u001b[0m in \u001b[0;36m<module>\u001b[0;34m\u001b[0m\n\u001b[0;32m----> 1\u001b[0;31m \u001b[0msoup\u001b[0m\u001b[0;34m.\u001b[0m\u001b[0mheaders\u001b[0m\u001b[0;34m[\u001b[0m\u001b[0;34m'content-type'\u001b[0m\u001b[0;34m]\u001b[0m\u001b[0;34m\u001b[0m\u001b[0;34m\u001b[0m\u001b[0m\n\u001b[0m",
      "\u001b[0;31mTypeError\u001b[0m: 'NoneType' object is not subscriptable"
     ]
    }
   ],
   "source": [
    "soup.headers['content-type']"
   ]
  },
  {
   "cell_type": "markdown",
   "metadata": {},
   "source": [
    "# Raw code"
   ]
  },
  {
   "cell_type": "code",
   "execution_count": 107,
   "metadata": {},
   "outputs": [
    {
     "name": "stdout",
     "output_type": "stream",
     "text": [
      "Once deleted, variables cannot be recovered. Proceed (y/[n])? y\n"
     ]
    },
    {
     "name": "stderr",
     "output_type": "stream",
     "text": [
      "ERROR:root:Invalid alias: The name clear can't be aliased because it is another magic command.\n",
      "ERROR:root:Invalid alias: The name more can't be aliased because it is another magic command.\n",
      "ERROR:root:Invalid alias: The name less can't be aliased because it is another magic command.\n",
      "ERROR:root:Invalid alias: The name man can't be aliased because it is another magic command.\n"
     ]
    }
   ],
   "source": [
    "%reset"
   ]
  },
  {
   "cell_type": "code",
   "execution_count": 108,
   "metadata": {},
   "outputs": [],
   "source": [
    "import requests\n",
    "from bs4 import BeautifulSoup\n",
    "# import json\n",
    "\n",
    "name = 'https://anaconda.org/anaconda/requests'\n",
    "data = requests.get(name)\n",
    "pgcontent = data.content\n",
    "soup = BeautifulSoup(pgcontent)#, 'html.parser')\n",
    "#headers = soup.headers['content-type']\n",
    "#encoding= soup.encoding\n",
    "        "
   ]
  },
  {
   "cell_type": "code",
   "execution_count": 106,
   "metadata": {},
   "outputs": [],
   "source": [
    "#print(soup)"
   ]
  },
  {
   "cell_type": "code",
   "execution_count": 110,
   "metadata": {},
   "outputs": [],
   "source": [
    "#print(soup.prettify())\n"
   ]
  },
  {
   "cell_type": "code",
   "execution_count": 111,
   "metadata": {},
   "outputs": [
    {
     "name": "stdout",
     "output_type": "stream",
     "text": [
      "Requests :: Anaconda Cloud\n"
     ]
    }
   ],
   "source": [
    "print(soup.title.string)\n",
    "#print(soup.get_text())\n",
    "#print(soup.body)"
   ]
  },
  {
   "cell_type": "code",
   "execution_count": 97,
   "metadata": {
    "scrolled": false
   },
   "outputs": [],
   "source": [
    "#print(soup.find_all('script'))\n",
    "#print(soup.prettify())\n",
    "#print(soup.find_all(['li','ul']))"
   ]
  },
  {
   "cell_type": "code",
   "execution_count": 116,
   "metadata": {},
   "outputs": [
    {
     "name": "stdout",
     "output_type": "stream",
     "text": [
      "['html', 'head', 'meta', 'script', 'script', 'meta', 'title', 'link', 'link', 'script', 'script', 'body', 'div', 'nav', 'ul', 'li', 'h1', 'a', 'img', 'li', 'a', 'span', 'section', 'ul', 'li', 'form', 'div', 'div', 'input', 'div', 'button', 'ul', 'li', 'a', 'li', 'a', 'li', 'a', 'li', 'a', 'li', 'a', 'li', 'a', 'div', 'div', 'div', 'div', 'div', 'div', 'div', 'h2', 'a', 'a', 'strong', 'span', 'small', 'form', 'input', 'ul', 'li', 'a', 'i', 'li', 'a', 'i', 'li', 'a', 'i', 'li', 'a', 'button', 'i', 'li', 'a', 'div', 'div', 'p', 'div', 'div', 'p', 'ul', 'li', 'a', 'li', 'a', 'li', 'a', 'li', 'a', 'div', 'div', 'div', 'ul', 'li', 'i', 'a', 'li', 'i', 'a', 'li', 'i', 'a', 'li', 'i', 'a', 'li', 'i', 'span', 'li', 'i', 'div', 'h3', 'div', 'h4', 'a', 'i', 'ul', 'li', 'span', 'i', 'small', 'li', 'span', 'i', 'small', 'li', 'span', 'i', 'small', 'li', 'span', 'i', 'small', 'li', 'span', 'i', 'small', 'li', 'span', 'i', 'small', 'li', 'span', 'i', 'small', 'br', 'code', 'br', 'div', 'h3', 'p', 'div', 'footer', 'div', 'div', 'h5', 'p', 'a', 'br', 'a', 'br', 'a', 'br', 'a', 'br', 'a', 'br', 'a', 'br', 'div', 'h5', 'p', 'a', 'br', 'a', 'br', 'a', 'br', 'a', 'br', 'a', 'br', 'div', 'div', 'ul', 'li', 'a', 'img', 'li', 'a', 'img', 'li', 'a', 'img', 'li', 'a', 'img', 'li', 'a', 'img', 'li', 'a', 'img', 'li', 'a', 'img', 'div', 'div', 'div', 'h5', 'a', 'a', 'span', 'script', 'noscript', 'iframe', 'script', 'div']\n"
     ]
    }
   ],
   "source": [
    "# generates all tags used in a webpage\n",
    "tags=[]\n",
    "for link in soup.find_all(True):\n",
    "    #print(link.name)\n",
    "    tags.append(link.name)\n",
    "print(tags)"
   ]
  },
  {
   "cell_type": "code",
   "execution_count": 139,
   "metadata": {},
   "outputs": [
    {
     "name": "stdout",
     "output_type": "stream",
     "text": [
      "219\n",
      "['html', 'head', 'meta', 'script', 'script', 'meta', 'title', 'link', 'link', 'script', 'script', 'body', 'div', 'nav', 'ul', 'li', 'h1', 'a', 'img', 'li', 'a', 'span', 'section', 'ul', 'li', 'form', 'div', 'div', 'input', 'div', 'button', 'ul', 'li', 'a', 'li', 'a', 'li', 'a', 'li', 'a', 'li', 'a', 'li', 'a', 'div', 'div', 'div', 'div', 'div', 'div', 'div', 'h2', 'a', 'a', 'strong', 'span', 'small', 'form', 'input', 'ul', 'li', 'a', 'i', 'li', 'a', 'i', 'li', 'a', 'i', 'li', 'a', 'button', 'i', 'li', 'a', 'div', 'div', 'p', 'div', 'div', 'p', 'ul', 'li', 'a', 'li', 'a', 'li', 'a', 'li', 'a', 'div', 'div', 'div', 'ul', 'li', 'i', 'a', 'li', 'i', 'a', 'li', 'i', 'a', 'li', 'i', 'a', 'li', 'i', 'span', 'li', 'i', 'div', 'h3', 'div', 'h4', 'a', 'i', 'ul', 'li', 'span', 'i', 'small', 'li', 'span', 'i', 'small', 'li', 'span', 'i', 'small', 'li', 'span', 'i', 'small', 'li', 'span', 'i', 'small', 'li', 'span', 'i', 'small', 'li', 'span', 'i', 'small', 'br', 'code', 'br', 'div', 'h3', 'p', 'div', 'footer', 'div', 'div', 'h5', 'p', 'a', 'br', 'a', 'br', 'a', 'br', 'a', 'br', 'a', 'br', 'a', 'br', 'div', 'h5', 'p', 'a', 'br', 'a', 'br', 'a', 'br', 'a', 'br', 'a', 'br', 'div', 'div', 'ul', 'li', 'a', 'img', 'li', 'a', 'img', 'li', 'a', 'img', 'li', 'a', 'img', 'li', 'a', 'img', 'li', 'a', 'img', 'li', 'a', 'img', 'div', 'div', 'div', 'h5', 'a', 'a', 'span', 'script', 'noscript', 'iframe', 'script', 'div']\n",
      "\n",
      "\n",
      "219\n",
      "{'small', 'nav', 'ul', 'br', 'section', 'noscript', 'li', 'head', 'h2', 'button', 'title', 'form', 'iframe', 'i', 'span', 'meta', 'p', 'img', 'footer', 'script', 'input', 'a', 'h3', 'h5', 'link', 'html', 'div', 'code', 'h1', 'strong', 'body', 'h4'}\n",
      "\n",
      "\n",
      "{'html': 1, 'head': 1, 'meta': 2, 'script': 6, 'title': 1, 'link': 2, 'body': 1, 'div': 31, 'nav': 1, 'ul': 8, 'li': 38, 'h1': 1, 'a': 44, 'img': 8, 'span': 11, 'section': 1, 'form': 2, 'input': 2, 'button': 2, 'h2': 1, 'strong': 1, 'small': 8, 'i': 18, 'p': 5, 'h3': 2, 'h4': 1, 'br': 13, 'code': 1, 'footer': 1, 'h5': 3, 'noscript': 1, 'iframe': 1}\n"
     ]
    }
   ],
   "source": [
    "#length of tags[]---\n",
    "print(len(tags))\n",
    "print(tags)\n",
    "print(\"\\n\")\n",
    "#removing duplicates\n",
    "distinct_tags=set(tags)\n",
    "print(len(tags))\n",
    "print(distinct_tags)\n",
    "print(\"\\n\")\n",
    "\n",
    "#words histogram---\n",
    "hist = {i:tags.count(i) for i in tags}\n",
    "print(hist)\n",
    "\n",
    "#assign numbers to strings (Tags Lookup Table) --update with ai\n",
    "\n",
    "#primary deduction eg. html type, type of content---\n",
    "#palindromes in list"
   ]
  },
  {
   "cell_type": "code",
   "execution_count": 117,
   "metadata": {},
   "outputs": [
    {
     "data": {
      "text/plain": [
       "[<img class=\"small\" src=\"//binstar-static-prod.s3.amazonaws.com/latest/img/AnacondaCloud_logo_green.png\"/>,\n",
       " <img src=\"/static/img/social-icons/twitter.svg\"/>,\n",
       " <img src=\"/static/img/social-icons/facebook.svg\"/>,\n",
       " <img src=\"/static/img/social-icons/slideshare.svg\"/>,\n",
       " <img src=\"/static/img/social-icons/linkedin.svg\"/>,\n",
       " <img src=\"/static/img/social-icons/instagram.svg\"/>,\n",
       " <img src=\"/static/img/social-icons/youtube.svg\"/>,\n",
       " <img src=\"/static/img/social-icons/github.svg\"/>]"
      ]
     },
     "execution_count": 117,
     "metadata": {},
     "output_type": "execute_result"
    }
   ],
   "source": [
    "# example:\n",
    "soup.find_all('img')"
   ]
  },
  {
   "cell_type": "code",
   "execution_count": 129,
   "metadata": {},
   "outputs": [
    {
     "data": {
      "text/plain": [
       "1"
      ]
     },
     "execution_count": 129,
     "metadata": {},
     "output_type": "execute_result"
    }
   ],
   "source": [
    "hist[\"html\"]\n"
   ]
  }
 ],
 "metadata": {
  "kernelspec": {
   "display_name": "Python [conda env:ai]",
   "language": "python",
   "name": "conda-env-ai-py"
  },
  "language_info": {
   "codemirror_mode": {
    "name": "ipython",
    "version": 3
   },
   "file_extension": ".py",
   "mimetype": "text/x-python",
   "name": "python",
   "nbconvert_exporter": "python",
   "pygments_lexer": "ipython3",
   "version": "3.7.3"
  }
 },
 "nbformat": 4,
 "nbformat_minor": 2
}
